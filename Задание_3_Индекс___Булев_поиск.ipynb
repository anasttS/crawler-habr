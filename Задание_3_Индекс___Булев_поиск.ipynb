{
  "nbformat": 4,
  "nbformat_minor": 0,
  "metadata": {
    "colab": {
      "name": "Задание 3 - Индекс | Булев поиск.ipynb",
      "provenance": []
    },
    "kernelspec": {
      "name": "python3",
      "display_name": "Python 3"
    },
    "language_info": {
      "name": "python"
    }
  },
  "cells": [
    {
      "cell_type": "markdown",
      "source": [
        "### Задание 3 - Индекс | Булев поиск"
      ],
      "metadata": {
        "id": "V1To4CRh2B8e"
      }
    },
    {
      "cell_type": "code",
      "source": [
        "import nltk\n",
        "nltk.download(\"stopwords\")\n",
        "nltk.download('wordnet') \n",
        "nltk.download('punkt')"
      ],
      "metadata": {
        "id": "FX4teWRq1_c5"
      },
      "execution_count": null,
      "outputs": []
    },
    {
      "cell_type": "code",
      "source": [
        "import os\n",
        "from bs4 import BeautifulSoup"
      ],
      "metadata": {
        "id": "ce0h8ii72AjR"
      },
      "execution_count": 2,
      "outputs": []
    },
    {
      "cell_type": "code",
      "execution_count": 7,
      "metadata": {
        "id": "uGldByPrQ0tl"
      },
      "outputs": [],
      "source": [
        "# словарь (номер документа -> контент (заголовок + содержимое статьи))\n",
        "content = {}\n",
        "i = 1\n",
        "for file_ in os.listdir('links'):\n",
        "  if (file_.__contains__('.html')):\n",
        "    path_ = os.path.join('links', file_)\n",
        "    file_text = open(path_).read()\n",
        "  \n",
        "    soup = BeautifulSoup(file_text)\n",
        "    \n",
        "    page_content = []\n",
        "    for text in soup.find('h1', {'class': 'tm-article-snippet__title tm-article-snippet__title_h1'}):\n",
        "      title = text.get_text()\n",
        "      page_content.append(title)\n",
        "\n",
        "    data = soup.find('div', {'xmlns': 'http://www.w3.org/1999/xhtml'})\n",
        "    for p in data.find_all('p'):\n",
        "       text = p.get_text()\n",
        "       page_content.append(text)\n",
        "    \n",
        "    content[i] = page_content\n",
        "    i += 1"
      ]
    },
    {
      "cell_type": "code",
      "source": [
        "# пример текста 3 документа\n",
        "content[3]"
      ],
      "metadata": {
        "colab": {
          "base_uri": "https://localhost:8080/"
        },
        "id": "ep5RYibe2cD3",
        "outputId": "c28c2ff3-8708-4783-9b9f-c66ffe952c54"
      },
      "execution_count": 18,
      "outputs": [
        {
          "output_type": "execute_result",
          "data": {
            "text/plain": [
              "['Российские ученые спрогнозировали падение на Луну космического объекта',\n",
              " 'По данным исследователей из Института наукоемких технологий и передовых материалов Дальневосточного федерального университета и Института прикладной астрономии Российской академии наук, на Луну упадет объект WE0913A. Ученые прогнозируют его столкновение с обратной стороной спутника Земли 4 марта.',\n",
              " 'Исследователи определили WE0913A как отработавшую ступень ракеты. Они говорят, что объект столкнется с Луной в 12:34 мск. Столб пыли, вызванный ударом, будет возможно наблюдать с Земли.',\n",
              " 'Тело упадет со скоростью 2,6 тыс. м/c, что позволит увидеть данное явление даже невооруженным глазом. Зрение человека способно различать объекты на расстоянии до шестой звездной величины, а столкновение WE0913A с Луной произойдет в двух. Студент Института наукоемких технологий и передовых материалов ДВФУ Тимур Ноздрачев сообщил о готовности исследователей обсерваторий Италии, Словакии и Таджикистана провести наблюдения падения WE0913A.',\n",
              " 'Кроме того, увидеть событие без специального оборудования могут жители Омска и Новосибирска. Возможность сделать подобный прогноз получается крайне редко, говорят ученые. Исследование с Земли позволит получить понимание свойств реголита Луны.',\n",
              " 'В конце января исследователь траекторий космических объектов и разработчик астрономического программного обеспечения Project Pluto Билл Грей предсказал падение на Луну второй ступени ракеты Falcon 9 производства SpaceX. По его мнению, она находится между Землей и ее спутником с 2015 года. Грей сообщил, что ступень весит примерно 4 тонны, имеет диаметр 3,66 метра и длину 12,6 метров.\\xa0',\n",
              " 'В середине февраля Грей признался, что ошибся относительно происхождения обломка. Он заявил, что объект является обломком китайской ракеты.\\xa0',\n",
              " 'Спустя неделю МИД КНР сообщил, что падающая на Луну ступень ракеты не имеет отношения к китайской лунной миссии 2014 года. Министерство отмечает, что верхняя ступень ракеты миссии «Чанъэ-5» сгорела в атмосфере Земли.']"
            ]
          },
          "metadata": {},
          "execution_count": 18
        }
      ]
    },
    {
      "cell_type": "code",
      "source": [
        "import string\n",
        "from nltk.corpus import stopwords\n",
        "import re"
      ],
      "metadata": {
        "id": "H6f5yEBP4u0B"
      },
      "execution_count": 11,
      "outputs": []
    },
    {
      "cell_type": "code",
      "source": [
        "def tokenize(content):\n",
        "    result = []\n",
        "    tokens = set() \n",
        "    for c in content:\n",
        "      tokens_ = nltk.word_tokenize(c)\n",
        "      tokens_ = [i.lower() for i in tokens_]\n",
        "      tokens_ = [i for i in tokens_ if ( i not in string.punctuation )]\n",
        "      tokens_ = filter(None, [re.sub(r\"[^a-zа-я-]+\", r\"\", i) for i in tokens_])\n",
        "\n",
        "      stop_words = stopwords.words('russian')\n",
        "      stop_words.extend(['что', 'это', 'так', 'вот', 'как', 'в', 'к',\n",
        "                         'на', 'о', 'при', 'из-за', 'за', 'ао', 'но', 'х',\n",
        "                         'хотя', 'среди', 'помимо', 'с'])\n",
        "      tokens_ = [i for i in tokens_ if ( i not in stop_words )]\n",
        "\n",
        "      stop_words2 = stopwords.words('english')\n",
        "      stop_words2.extend(['the', 'e', 'a', 'd', 'b', 'x', 'c'])\n",
        "      tokens_ = [i for i in tokens_ if ( i not in stop_words2 )]\n",
        "\n",
        "      tokens_ = [i.replace(\"«\", \"\").replace(\"»\", \"\") for i in tokens_]\n",
        "\n",
        "      for t_ in tokens_:\n",
        "        tokens.add(t_)\n",
        "      result += [tokens]\n",
        "\n",
        "    return result"
      ],
      "metadata": {
        "id": "kO9ozM9Y2dmn"
      },
      "execution_count": 22,
      "outputs": []
    },
    {
      "cell_type": "code",
      "source": [
        "index={}\n",
        "for i in range(1, 101):\n",
        "    data = []\n",
        "    for c in tokenize(content[i]):\n",
        "        data += c\n",
        "    data = list(dict.fromkeys(data))\n",
        "    for token in data:\n",
        "        if token in index.keys():\n",
        "            index[token].append(i)\n",
        "        else:\n",
        "            index[token] = [i]"
      ],
      "metadata": {
        "id": "yTu3TPTj61lD"
      },
      "execution_count": null,
      "outputs": []
    },
    {
      "cell_type": "code",
      "source": [
        "with open('inverted_index.txt', \"w\", encoding=\"utf-8\") as f:\n",
        "    for key in index:\n",
        "        f.write('{\\\"count\\\":' + str(len(index[key])) + ',\\\"inverted_array\\\":' + str(index[key]) + ',\\\"word\\\":\\\"' + key + '\\\"}\\n')"
      ],
      "metadata": {
        "id": "kRn_i88o5CL6"
      },
      "execution_count": 27,
      "outputs": []
    },
    {
      "cell_type": "code",
      "source": [
        "from google.colab import files\n",
        "files.download('inverted_index.txt')"
      ],
      "metadata": {
        "colab": {
          "base_uri": "https://localhost:8080/",
          "height": 17
        },
        "id": "8tg3JfVx8PVE",
        "outputId": "c9366d5e-f1b8-44ef-85d2-fc4e523fec59"
      },
      "execution_count": 29,
      "outputs": [
        {
          "output_type": "display_data",
          "data": {
            "text/plain": [
              "<IPython.core.display.Javascript object>"
            ],
            "application/javascript": [
              "\n",
              "    async function download(id, filename, size) {\n",
              "      if (!google.colab.kernel.accessAllowed) {\n",
              "        return;\n",
              "      }\n",
              "      const div = document.createElement('div');\n",
              "      const label = document.createElement('label');\n",
              "      label.textContent = `Downloading \"${filename}\": `;\n",
              "      div.appendChild(label);\n",
              "      const progress = document.createElement('progress');\n",
              "      progress.max = size;\n",
              "      div.appendChild(progress);\n",
              "      document.body.appendChild(div);\n",
              "\n",
              "      const buffers = [];\n",
              "      let downloaded = 0;\n",
              "\n",
              "      const channel = await google.colab.kernel.comms.open(id);\n",
              "      // Send a message to notify the kernel that we're ready.\n",
              "      channel.send({})\n",
              "\n",
              "      for await (const message of channel.messages) {\n",
              "        // Send a message to notify the kernel that we're ready.\n",
              "        channel.send({})\n",
              "        if (message.buffers) {\n",
              "          for (const buffer of message.buffers) {\n",
              "            buffers.push(buffer);\n",
              "            downloaded += buffer.byteLength;\n",
              "            progress.value = downloaded;\n",
              "          }\n",
              "        }\n",
              "      }\n",
              "      const blob = new Blob(buffers, {type: 'application/binary'});\n",
              "      const a = document.createElement('a');\n",
              "      a.href = window.URL.createObjectURL(blob);\n",
              "      a.download = filename;\n",
              "      div.appendChild(a);\n",
              "      a.click();\n",
              "      div.remove();\n",
              "    }\n",
              "  "
            ]
          },
          "metadata": {}
        },
        {
          "output_type": "display_data",
          "data": {
            "text/plain": [
              "<IPython.core.display.Javascript object>"
            ],
            "application/javascript": [
              "download(\"download_17fc7663-074f-400a-85ff-91f366bef414\", \"inverted_index.txt\", 440729)"
            ]
          },
          "metadata": {}
        }
      ]
    },
    {
      "cell_type": "markdown",
      "source": [
        "### Реализация булева поиска"
      ],
      "metadata": {
        "id": "yt0EEGDp94KT"
      }
    },
    {
      "cell_type": "code",
      "source": [
        "def preprocess_for_search(content):\n",
        "    result = []\n",
        "    tokens = set() \n",
        "    \n",
        "    tokens_ = nltk.word_tokenize(content)\n",
        "    tokens_ = [i.lower() for i in tokens_]\n",
        "    tokens_ = [i for i in tokens_ if ( i not in string.punctuation )]\n",
        "    tokens_ = filter(None, [re.sub(r\"[^a-zа-я-]+\", r\"\", i) for i in tokens_])\n",
        "\n",
        "    stop_words = stopwords.words('russian')\n",
        "    stop_words.extend(['что', 'это', 'так', 'вот', 'как', 'в', 'к',\n",
        "                         'на', 'о', 'при', 'из-за', 'за', 'ао', 'но', 'х',\n",
        "                         'хотя', 'среди', 'помимо', 'с'])\n",
        "    tokens_ = [i for i in tokens_ if ( i not in stop_words )]\n",
        "\n",
        "    stop_words2 = stopwords.words('english')\n",
        "    stop_words2.extend(['the', 'e', 'a', 'd', 'b', 'x', 'c'])\n",
        "    tokens_ = [i for i in tokens_ if ( i not in stop_words2 )]\n",
        "\n",
        "    tokens_ = [i.replace(\"«\", \"\").replace(\"»\", \"\") for i in tokens_]\n",
        "\n",
        "    for t_ in tokens_:\n",
        "      tokens.add(t_)\n",
        "    result += [tokens]\n",
        "\n",
        "    return result"
      ],
      "metadata": {
        "id": "DV-Waovr_qI0"
      },
      "execution_count": 45,
      "outputs": []
    },
    {
      "cell_type": "code",
      "source": [
        "import json"
      ],
      "metadata": {
        "id": "mUQ_YNXa9IrC"
      },
      "execution_count": 30,
      "outputs": []
    },
    {
      "cell_type": "code",
      "source": [
        "# Текст - Тело упадет со скоростью 2,6 тыс. м/c (из 3 документа)\n",
        "text = input()\n",
        "tokens_search = []\n",
        "for t in preprocess_for_search(text):\n",
        "    tokens_search += t"
      ],
      "metadata": {
        "id": "sUvjHKwGAipL"
      },
      "execution_count": 113,
      "outputs": []
    },
    {
      "cell_type": "code",
      "source": [
        "tokens_search"
      ],
      "metadata": {
        "colab": {
          "base_uri": "https://localhost:8080/"
        },
        "id": "p_asv08q_OlS",
        "outputId": "6e5be2f5-06e2-4998-8c4f-6a35c63726e4"
      },
      "execution_count": 114,
      "outputs": [
        {
          "output_type": "execute_result",
          "data": {
            "text/plain": [
              "['упадет', 'тело', 'скоростью']"
            ]
          },
          "metadata": {},
          "execution_count": 114
        }
      ]
    },
    {
      "cell_type": "code",
      "source": [
        "# поиск пересечения нужных слов и слов из созданного индекса\n",
        "search = {}\n",
        "for token in tokens_search:\n",
        "    if token in index.keys():\n",
        "        search[token] = index[token]\n",
        "    else:\n",
        "        search[token] = []"
      ],
      "metadata": {
        "id": "5D060eMW-zoT"
      },
      "execution_count": 115,
      "outputs": []
    },
    {
      "cell_type": "code",
      "source": [
        "search"
      ],
      "metadata": {
        "colab": {
          "base_uri": "https://localhost:8080/"
        },
        "id": "RxYicJK8BvdS",
        "outputId": "3d8788c5-a3b4-4a53-fbfb-a62cca8a48c0"
      },
      "execution_count": 116,
      "outputs": [
        {
          "output_type": "execute_result",
          "data": {
            "text/plain": [
              "{'скоростью': [3, 75, 77], 'тело': [3, 88], 'упадет': [3]}"
            ]
          },
          "metadata": {},
          "execution_count": 116
        }
      ]
    },
    {
      "cell_type": "code",
      "source": [
        "def bool_search(search_type, search):\n",
        "  i = 1\n",
        "  document = []\n",
        "  for token in search:\n",
        "      if i == 1:\n",
        "        document = search[token]\n",
        "      else:\n",
        "        if search_type == 'AND':\n",
        "           # все токены должны быть в документе\n",
        "          document = list(set(document) & set(search[token]))\n",
        "        if search_type == 'OR':\n",
        "           # достаточно хотя бы одного токена в документе\n",
        "          document = list(set(document) | set(search[token]))\n",
        "      i += 1\n",
        "  print(document)"
      ],
      "metadata": {
        "id": "AVyXOQbjAYDw"
      },
      "execution_count": 128,
      "outputs": []
    },
    {
      "cell_type": "code",
      "source": [
        "bool_search('AND', search)"
      ],
      "metadata": {
        "colab": {
          "base_uri": "https://localhost:8080/"
        },
        "id": "BB6MRf1UFD0r",
        "outputId": "a932b5b5-92f7-48bf-afe4-dd77c3559f4f"
      },
      "execution_count": 129,
      "outputs": [
        {
          "output_type": "stream",
          "name": "stdout",
          "text": [
            "[3]\n"
          ]
        }
      ]
    },
    {
      "cell_type": "code",
      "source": [
        "bool_search('OR', search)"
      ],
      "metadata": {
        "colab": {
          "base_uri": "https://localhost:8080/"
        },
        "id": "L_z57g6NGc74",
        "outputId": "a250a3de-a052-49ea-ca13-d2cadecdbc1b"
      },
      "execution_count": 130,
      "outputs": [
        {
          "output_type": "stream",
          "name": "stdout",
          "text": [
            "[3, 88, 75, 77]\n"
          ]
        }
      ]
    }
  ]
}